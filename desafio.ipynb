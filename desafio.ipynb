{
 "cells": [
  {
   "cell_type": "code",
   "execution_count": 1,
   "id": "d2bcdf2c-bfb1-48b9-97b9-3cfba00220f9",
   "metadata": {},
   "outputs": [
    {
     "name": "stdout",
     "output_type": "stream",
     "text": [
      "Requirement already satisfied: delta-spark in /opt/conda/lib/python3.11/site-packages (3.3.0)\n",
      "Collecting pyspark<3.6.0,>=3.5.3 (from delta-spark)\n",
      "  Using cached pyspark-3.5.5-py2.py3-none-any.whl\n",
      "Requirement already satisfied: importlib-metadata>=1.0.0 in /opt/conda/lib/python3.11/site-packages (from delta-spark) (6.8.0)\n",
      "Requirement already satisfied: zipp>=0.5 in /opt/conda/lib/python3.11/site-packages (from importlib-metadata>=1.0.0->delta-spark) (3.17.0)\n",
      "Requirement already satisfied: py4j==0.10.9.7 in /opt/conda/lib/python3.11/site-packages (from pyspark<3.6.0,>=3.5.3->delta-spark) (0.10.9.7)\n",
      "Installing collected packages: pyspark\n",
      "  Attempting uninstall: pyspark\n",
      "    Found existing installation: pyspark 3.5.0\n",
      "    Can't uninstall 'pyspark'. No files were found to uninstall.\n",
      "Successfully installed pyspark-3.5.5\n"
     ]
    }
   ],
   "source": [
    "!pip install delta-spark"
   ]
  },
  {
   "cell_type": "code",
   "execution_count": 2,
   "id": "b5251373-80b3-4877-ad73-a810728b8099",
   "metadata": {},
   "outputs": [],
   "source": [
    "# !pyspark --packages io.delta:delta-spark_2.12:3.2.0 --conf \"spark.sql.extensions=io.delta.sql.DeltaSparkSessionExtension\" --conf \"spark.sql.catalog.spark_catalog=org.apache.spark.sql.delta.catalog.DeltaCatalog\""
   ]
  },
  {
   "cell_type": "code",
   "execution_count": 3,
   "id": "9582aa44-5aef-4dff-b403-91e60f49599f",
   "metadata": {},
   "outputs": [],
   "source": [
    "# df = sc.textFile.json('/home/matheus/Documentos/teste_engenheiro/data')"
   ]
  },
  {
   "cell_type": "code",
   "execution_count": 77,
   "id": "f1ad31f5-5bff-4434-841a-b63b939e4c43",
   "metadata": {},
   "outputs": [],
   "source": [
    "from pyspark.sql import SparkSession\n",
    "import pandas as pd\n",
    "import requests, json, os\n",
    "\n",
    "from pyspark.sql import functions as F\n",
    "from pyspark.sql.types import StructField, StringType, ArrayType, StructType\n",
    "from delta import *\n",
    "from pyspark.sql.functions import regexp_replace"
   ]
  },
  {
   "cell_type": "code",
   "execution_count": 5,
   "id": "7f69f678-7951-4226-90b2-00bf90f878fd",
   "metadata": {},
   "outputs": [],
   "source": [
    "spark = SparkSession.builder.appName(\"DesafioEngenhariaDados\") \\\n",
    "        .config(\"spark.jars\", \"/home/jovyan/work/postgresql/postgresql-42.7.5.jar\") \\\n",
    "        .config(\"spark.jars.packages\", \"io.delta:delta-core_2.12:2.0.0\") \\\n",
    "        .config(\"spark.sql.extensions\", \"io.delta.sql.DeltaSparkSessionExtension\") \\\n",
    "        .config(\"spark.sql.catalog.spark_catalog\", \"org.apache.spark.sql.delta.catalog.DeltaCatalog\") \\\n",
    "        .config(\"spark.delta.logStore.class\", \"org.apache.spark.sql.delta.storage.S3SingleDriverLogStore\") \\\n",
    "        .master(\"local[*]\").getOrCreate()"
   ]
  },
  {
   "cell_type": "code",
   "execution_count": 6,
   "id": "ec1e2377-e154-4cc4-b520-569be6b9a040",
   "metadata": {},
   "outputs": [],
   "source": [
    "# spark = SparkSession.builder.appName(\"DesafioEngenhariaDados\") \\\n",
    "#         .config(\"spark.jars\", \"/home/jovyan/work/postgresql/postgresql-42.7.5.jar\") \\\n",
    "#         .config(\"spark.jars.packages\", \"io.delta:delta-core_2.12:2.0.0\") \\\n",
    "#         .config(\"spark.sql.extensions\", \"io.delta.sql.DeltaSparkSessionExtension\") \\\n",
    "#         .config(\"spark.sql.catalog.spark_catalog\", \"org.apache.spark.sql.delta.catalog.DeltaCatalog\") \\\n",
    "#         .config(\"spark.delta.logStore.class\", \"org.apache.spark.sql.delta.storage.S3SingleDriverLogStore\") \\\n",
    "#         .master(\"spark://172.18.0.4:7077\").getOrCreate()"
   ]
  },
  {
   "cell_type": "code",
   "execution_count": 7,
   "id": "9c68fe34-925b-4f30-afb5-2438f5d836ba",
   "metadata": {},
   "outputs": [
    {
     "data": {
      "text/plain": [
       "[('spark.repl.local.jars',\n",
       "  'file:///home/jovyan/work/postgresql/postgresql-42.7.5.jar,file:///home/jovyan/.ivy2/jars/io.delta_delta-core_2.12-2.0.0.jar,file:///home/jovyan/.ivy2/jars/io.delta_delta-storage-2.0.0.jar,file:///home/jovyan/.ivy2/jars/org.antlr_antlr4-runtime-4.8.jar,file:///home/jovyan/.ivy2/jars/org.codehaus.jackson_jackson-core-asl-1.9.13.jar'),\n",
       " ('spark.submit.pyFiles',\n",
       "  '/home/jovyan/.ivy2/jars/io.delta_delta-core_2.12-2.0.0.jar,/home/jovyan/.ivy2/jars/io.delta_delta-storage-2.0.0.jar,/home/jovyan/.ivy2/jars/org.antlr_antlr4-runtime-4.8.jar,/home/jovyan/.ivy2/jars/org.codehaus.jackson_jackson-core-asl-1.9.13.jar'),\n",
       " ('spark.driver.host', 'd20967de1d61'),\n",
       " ('spark.app.name', 'DesafioEngenhariaDados'),\n",
       " ('spark.driver.port', '44813'),\n",
       " ('spark.executor.id', 'driver'),\n",
       " ('spark.app.initial.jar.urls',\n",
       "  'spark://d20967de1d61:44813/jars/postgresql-42.7.5.jar'),\n",
       " ('spark.driver.extraJavaOptions',\n",
       "  '-Djava.net.preferIPv6Addresses=false -XX:+IgnoreUnrecognizedVMOptions --add-opens=java.base/java.lang=ALL-UNNAMED --add-opens=java.base/java.lang.invoke=ALL-UNNAMED --add-opens=java.base/java.lang.reflect=ALL-UNNAMED --add-opens=java.base/java.io=ALL-UNNAMED --add-opens=java.base/java.net=ALL-UNNAMED --add-opens=java.base/java.nio=ALL-UNNAMED --add-opens=java.base/java.util=ALL-UNNAMED --add-opens=java.base/java.util.concurrent=ALL-UNNAMED --add-opens=java.base/java.util.concurrent.atomic=ALL-UNNAMED --add-opens=java.base/sun.nio.ch=ALL-UNNAMED --add-opens=java.base/sun.nio.cs=ALL-UNNAMED --add-opens=java.base/sun.security.action=ALL-UNNAMED --add-opens=java.base/sun.util.calendar=ALL-UNNAMED --add-opens=java.security.jgss/sun.security.krb5=ALL-UNNAMED -Djdk.reflect.useDirectMethodHandle=false'),\n",
       " ('spark.app.submitTime', '1742415027071'),\n",
       " ('spark.jars.packages', 'io.delta:delta-core_2.12:2.0.0'),\n",
       " ('spark.files',\n",
       "  'file:///home/jovyan/.ivy2/jars/io.delta_delta-core_2.12-2.0.0.jar,file:///home/jovyan/.ivy2/jars/io.delta_delta-storage-2.0.0.jar,file:///home/jovyan/.ivy2/jars/org.antlr_antlr4-runtime-4.8.jar,file:///home/jovyan/.ivy2/jars/org.codehaus.jackson_jackson-core-asl-1.9.13.jar'),\n",
       " ('spark.sql.extensions', 'io.delta.sql.DeltaSparkSessionExtension'),\n",
       " ('spark.rdd.compress', 'True'),\n",
       " ('spark.jars', '/home/jovyan/work/postgresql/postgresql-42.7.5.jar'),\n",
       " ('spark.serializer.objectStreamReset', '100'),\n",
       " ('spark.master', 'local[*]'),\n",
       " ('spark.app.startTime', '1742415027202'),\n",
       " ('spark.submit.deployMode', 'client'),\n",
       " ('spark.app.id', 'local-1742415027929'),\n",
       " ('spark.app.initial.file.urls',\n",
       "  'file:///home/jovyan/.ivy2/jars/org.codehaus.jackson_jackson-core-asl-1.9.13.jar,file:///home/jovyan/.ivy2/jars/io.delta_delta-storage-2.0.0.jar,file:///home/jovyan/.ivy2/jars/org.antlr_antlr4-runtime-4.8.jar,file:///home/jovyan/.ivy2/jars/io.delta_delta-core_2.12-2.0.0.jar'),\n",
       " ('spark.delta.logStore.class',\n",
       "  'org.apache.spark.sql.delta.storage.S3SingleDriverLogStore'),\n",
       " ('spark.ui.showConsoleProgress', 'true'),\n",
       " ('spark.sql.catalog.spark_catalog',\n",
       "  'org.apache.spark.sql.delta.catalog.DeltaCatalog'),\n",
       " ('spark.executor.extraJavaOptions',\n",
       "  '-Djava.net.preferIPv6Addresses=false -XX:+IgnoreUnrecognizedVMOptions --add-opens=java.base/java.lang=ALL-UNNAMED --add-opens=java.base/java.lang.invoke=ALL-UNNAMED --add-opens=java.base/java.lang.reflect=ALL-UNNAMED --add-opens=java.base/java.io=ALL-UNNAMED --add-opens=java.base/java.net=ALL-UNNAMED --add-opens=java.base/java.nio=ALL-UNNAMED --add-opens=java.base/java.util=ALL-UNNAMED --add-opens=java.base/java.util.concurrent=ALL-UNNAMED --add-opens=java.base/java.util.concurrent.atomic=ALL-UNNAMED --add-opens=java.base/sun.nio.ch=ALL-UNNAMED --add-opens=java.base/sun.nio.cs=ALL-UNNAMED --add-opens=java.base/sun.security.action=ALL-UNNAMED --add-opens=java.base/sun.util.calendar=ALL-UNNAMED --add-opens=java.security.jgss/sun.security.krb5=ALL-UNNAMED -Djdk.reflect.useDirectMethodHandle=false')]"
      ]
     },
     "execution_count": 7,
     "metadata": {},
     "output_type": "execute_result"
    }
   ],
   "source": [
    "spark.sparkContext.getConf().getAll()"
   ]
  },
  {
   "cell_type": "code",
   "execution_count": 8,
   "id": "ad6e8f6e-5579-41fe-b9eb-96fd2bd35c0b",
   "metadata": {},
   "outputs": [],
   "source": [
    "# dfPd = pd.read_json('https://raw.githubusercontent.com/wandersondsm/teste_engenheiro/refs/heads/main/data/Aaron697_Brekke496_2fa15bc7-8866-461a-9000-f739e425860a.json', encoding='utf-8')"
   ]
  },
  {
   "cell_type": "code",
   "execution_count": 9,
   "id": "340187a9-6db8-4ed9-ae92-4ace804c3776",
   "metadata": {},
   "outputs": [],
   "source": [
    "# dfPd.head(5)"
   ]
  },
  {
   "cell_type": "code",
   "execution_count": 10,
   "id": "dfce00de-2bb9-4d77-bf88-cbfb9c50e669",
   "metadata": {},
   "outputs": [],
   "source": [
    "url = \"https://api.github.com/repos/wandersondsm/teste_engenheiro/git/trees/main?recursive=1\""
   ]
  },
  {
   "cell_type": "code",
   "execution_count": 11,
   "id": "9a5aab9d-55fa-4a91-ba71-3d2cb3d8167c",
   "metadata": {},
   "outputs": [],
   "source": [
    "resp = requests.get(url)\n",
    "\n",
    "lista = []\n",
    "for repo in resp.json()['tree'][2:-1]:\n",
    "    # print(repo.get('path'))\n",
    "    # print(repo.get('url'))\n",
    "    lista.append(\"https://raw.githubusercontent.com/wandersondsm/teste_engenheiro/refs/heads/main/\" + repo.get('path'))"
   ]
  },
  {
   "cell_type": "code",
   "execution_count": 12,
   "id": "e0f6bcff-29cb-4061-a89f-f54be28100c2",
   "metadata": {},
   "outputs": [],
   "source": [
    "# Função para baixar um arquivo\n",
    "def download_file(url, folder):\n",
    "    try:\n",
    "        # Extrai o nome do arquivo da URL\n",
    "        file_name = os.path.join(folder, url.split(\"/\")[-1])\n",
    "        \n",
    "        # Faz a requisição HTTP para baixar o arquivo\n",
    "        response = requests.get(url, stream=True)\n",
    "        response.raise_for_status()  # Lança exceção se houver erro HTTP\n",
    "        \n",
    "        # Salva o arquivo na pasta especificada\n",
    "        with open(file_name, 'wb') as file:\n",
    "            for chunk in response.iter_content(chunk_size=8192):\n",
    "                file.write(chunk)\n",
    "        \n",
    "        print(f\"Download concluído: {file_name}\")\n",
    "    \n",
    "    except requests.exceptions.RequestException as e:\n",
    "        print(f\"Falha ao baixar {url}: {e}\")"
   ]
  },
  {
   "cell_type": "code",
   "execution_count": 13,
   "id": "4bb3f4d3-8441-4fc6-8a29-d65be9907d51",
   "metadata": {},
   "outputs": [
    {
     "name": "stdout",
     "output_type": "stream",
     "text": [
      "Download concluído: postgresql/postgresql-42.7.5.jar\n"
     ]
    }
   ],
   "source": [
    "download_folder = \"postgresql\"\n",
    "# Criando a pasta para armazenar o JAR do postgreSQL\n",
    "if not os.path.exists(download_folder):\n",
    "    os.makedirs(download_folder)\n",
    "\n",
    "download_file(\"https://jdbc.postgresql.org/download/postgresql-42.7.5.jar\", download_folder)"
   ]
  },
  {
   "cell_type": "code",
   "execution_count": null,
   "id": "07f6c37f-5385-4d33-a2b6-c721f0f6ddc3",
   "metadata": {},
   "outputs": [],
   "source": [
    "# Pasta onde os arquivos serão salvos\n",
    "download_folder = \"data\"\n",
    "\n",
    "if not os.path.exists(download_folder):\n",
    "    os.makedirs(download_folder)\n",
    "\n",
    "for url in lista:\n",
    "    download_file(url, download_folder)"
   ]
  },
  {
   "cell_type": "code",
   "execution_count": 105,
   "id": "2f620fdf-2702-4891-9462-02bafe37f8be",
   "metadata": {},
   "outputs": [],
   "source": [
    "def exploded_json_columns(df, column_name_schema):\n",
    "    json_fields = exploded_df.schema[f'{column_name_schema}'].dataType.fieldNames()\n",
    "    \n",
    "    df_dinamico_tratado = exploded_df.select(F.col(\"type\"), *[F.col(f\"entry_explode.{field}\").alias(field) for field in json_fields])\n",
    "    return df_dinamico_tratado"
   ]
  },
  {
   "cell_type": "code",
   "execution_count": 15,
   "id": "5c08bf2f-4b4e-4d68-b20a-ce1f565cf768",
   "metadata": {},
   "outputs": [],
   "source": [
    "# def get_json_keys(schema, prefix):\n",
    "#     keys = []\n",
    "#     for field in schema.fields:\n",
    "#         if isinstance(field.dataType, StructType):\n",
    "#             if prefix:\n",
    "#                 new_prefix = f\"{prefix}.{field.name}\"\n",
    "#             else:\n",
    "#                 new_prefix = field.name\n",
    "#             keys += get_json_keys(field.dataType, new_prefix)\n",
    "#         elif isinstance(field.dataType, ArrayType) and isinstance(field.dataType.elementType, StructType):\n",
    "#             if prefix:\n",
    "#                 new_prefix = f\"{prefix}.{field.name}\"\n",
    "#             else:\n",
    "#                 new_prefix = field.name\n",
    "#             keys += get_json_keys(field.dataType.elementType, new_prefix)\n",
    "#         else:\n",
    "#             if prefix:\n",
    "#                 keys.append(f\"{prefix}.{field.name}\")\n",
    "#             else:\n",
    "#                 keys.append(field.name)\n",
    "#     return keys\n",
    "# cols = get_json_keys(dynamic_schema, \"nome\")"
   ]
  },
  {
   "cell_type": "code",
   "execution_count": null,
   "id": "6e196afb-8c98-4ce5-b462-fd8f1652fb6f",
   "metadata": {},
   "outputs": [],
   "source": []
  },
  {
   "cell_type": "code",
   "execution_count": 16,
   "id": "edcb1222-6076-45c1-8e15-7a7deddc7633",
   "metadata": {
    "scrolled": true
   },
   "outputs": [],
   "source": [
    "df = spark.read.option(\"multiline\",\"true\").json('data/*.json')"
   ]
  },
  {
   "cell_type": "code",
   "execution_count": 17,
   "id": "05d91e86-6e90-4e1e-9611-439eaa79dbf7",
   "metadata": {},
   "outputs": [],
   "source": [
    "# df_raw = spark.read.format(\"parquet\").load(\"/home/jovyan/work/datalake/raw\")\n",
    "# df_raw = spark.read.parquet(\"/home/jovyan/work/datalake/raw\")\n",
    "# df.write.mode(\"overwrite\").format(\"parquet\").save(\"/home/jovyan/work/datalake/raw\")"
   ]
  },
  {
   "cell_type": "code",
   "execution_count": null,
   "id": "d0c06630-3863-48ea-97f0-232c1a5f8e3d",
   "metadata": {},
   "outputs": [],
   "source": []
  },
  {
   "cell_type": "code",
   "execution_count": 18,
   "id": "211b1f4f-d0e2-4aab-a682-9f0dc14c3bb6",
   "metadata": {},
   "outputs": [
    {
     "name": "stdout",
     "output_type": "stream",
     "text": [
      "+--------------------+------------+-----------+--------------------+\n",
      "|               entry|resourceType|       type|       entry_explode|\n",
      "+--------------------+------------+-----------+--------------------+\n",
      "|[{urn:uuid:071812...|      Bundle|transaction|{urn:uuid:0718123...|\n",
      "|[{urn:uuid:071812...|      Bundle|transaction|{urn:uuid:78418ee...|\n",
      "|[{urn:uuid:071812...|      Bundle|transaction|{urn:uuid:0000016...|\n",
      "|[{urn:uuid:071812...|      Bundle|transaction|{urn:uuid:2b772e4...|\n",
      "|[{urn:uuid:071812...|      Bundle|transaction|{urn:uuid:e872482...|\n",
      "+--------------------+------------+-----------+--------------------+\n",
      "only showing top 5 rows\n",
      "\n"
     ]
    }
   ],
   "source": [
    "# exploded_df = df.withColumn(\"detail\", explode(col(\"details\")))\n",
    "exploded_df = df.withColumn(\"entry_explode\", F.explode(F.col(\"entry\")))\n",
    "exploded_df.show(5)"
   ]
  },
  {
   "cell_type": "code",
   "execution_count": null,
   "id": "923b3961-6b6c-4c64-9532-6175bb102d09",
   "metadata": {},
   "outputs": [],
   "source": []
  },
  {
   "cell_type": "code",
   "execution_count": 19,
   "id": "d68aefc6-5dc8-4b0b-8904-778e4a6e5e89",
   "metadata": {},
   "outputs": [
    {
     "name": "stdout",
     "output_type": "stream",
     "text": [
      "+-----------+--------------------+--------------------+--------------------+\n",
      "|       type|             fullUrl|             request|            resource|\n",
      "+-----------+--------------------+--------------------+--------------------+\n",
      "|transaction|urn:uuid:0718123b...|     {POST, Patient}|{NULL, NULL, NULL...|\n",
      "|transaction|urn:uuid:78418eeb...|{POST, Organization}|{NULL, NULL, true...|\n",
      "|transaction|urn:uuid:0000016d...|{POST, Practitioner}|{NULL, NULL, true...|\n",
      "|transaction|urn:uuid:2b772e4b...|   {POST, Encounter}|{NULL, NULL, NULL...|\n",
      "|transaction|urn:uuid:e8724820...|   {POST, Condition}|{NULL, NULL, NULL...|\n",
      "|transaction|urn:uuid:eb7f5891...|{POST, Medication...|{NULL, NULL, NULL...|\n",
      "|transaction|urn:uuid:716c1bde...|       {POST, Claim}|{NULL, NULL, NULL...|\n",
      "|transaction|urn:uuid:a8b7a2d0...|    {POST, CareTeam}|{NULL, NULL, NULL...|\n",
      "|transaction|urn:uuid:8dcdd29e...|        {POST, Goal}|{NULL, {[{in-prog...|\n",
      "|transaction|urn:uuid:9ba7315c...|        {POST, Goal}|{NULL, {[{in-prog...|\n",
      "|transaction|urn:uuid:aedebb4c...|    {POST, CarePlan}|{NULL, NULL, NULL...|\n",
      "|transaction|urn:uuid:0b06c9bc...|       {POST, Claim}|{NULL, NULL, NULL...|\n",
      "|transaction|urn:uuid:09c9ec67...|{POST, Explanatio...|{NULL, NULL, NULL...|\n",
      "|transaction|urn:uuid:4861d01f...|{POST, Organization}|{NULL, NULL, true...|\n",
      "|transaction|urn:uuid:0000016d...|{POST, Practitioner}|{NULL, NULL, true...|\n",
      "|transaction|urn:uuid:7c8a02ca...|   {POST, Encounter}|{NULL, NULL, NULL...|\n",
      "|transaction|urn:uuid:4ededbbb...|    {POST, CareTeam}|{NULL, NULL, NULL...|\n",
      "|transaction|urn:uuid:698514ce...|    {POST, CarePlan}|{NULL, NULL, NULL...|\n",
      "|transaction|urn:uuid:024d7ca2...|       {POST, Claim}|{NULL, NULL, NULL...|\n",
      "|transaction|urn:uuid:60b39956...|{POST, Explanatio...|{NULL, NULL, NULL...|\n",
      "+-----------+--------------------+--------------------+--------------------+\n",
      "only showing top 20 rows\n",
      "\n"
     ]
    }
   ],
   "source": [
    "json_fields = exploded_df.schema[\"entry_explode\"].dataType.fieldNames()\n",
    "\n",
    "df_dinamico = exploded_df.select(F.col(\"type\"), *[F.col(f\"entry_explode.{field}\").alias(field) for field in json_fields])\n",
    "\n",
    "df_dinamico.show()"
   ]
  },
  {
   "cell_type": "code",
   "execution_count": 20,
   "id": "ead62173-5c5f-429b-bac2-decc2c04b453",
   "metadata": {},
   "outputs": [],
   "source": [
    "# exploded_df.printSchema()"
   ]
  },
  {
   "cell_type": "code",
   "execution_count": 21,
   "id": "b733ce23-e8d7-417f-8966-54a9df462e94",
   "metadata": {},
   "outputs": [],
   "source": [
    "json_fields = df_dinamico.schema[\"resource\"].dataType.fieldNames()\n",
    "\n",
    "df_dinamico_resource = df_dinamico.select(F.col(\"type\"), *[F.col(f\"resource.{field}\").alias(field) for field in json_fields])"
   ]
  },
  {
   "cell_type": "code",
   "execution_count": null,
   "id": "bc279a01-edf6-4eef-85fe-916f7556c940",
   "metadata": {},
   "outputs": [],
   "source": []
  },
  {
   "cell_type": "code",
   "execution_count": null,
   "id": "4270040c-b911-444c-ba3c-cec6940c9f5d",
   "metadata": {},
   "outputs": [],
   "source": []
  },
  {
   "cell_type": "code",
   "execution_count": 22,
   "id": "cd92093d-ce4e-478c-8fa7-3d8966b0f5aa",
   "metadata": {},
   "outputs": [
    {
     "name": "stdout",
     "output_type": "stream",
     "text": [
      "+--------------------+-----+\n",
      "|                text|count|\n",
      "+--------------------+-----+\n",
      "|Viral sinusitis (...| 1237|\n",
      "|Acute viral phary...|  754|\n",
      "|Acute bronchitis ...|  548|\n",
      "|    Normal pregnancy|  516|\n",
      "|         Prediabetes|  388|\n",
      "|   Anemia (disorder)|  382|\n",
      "|Body mass index 3...|  346|\n",
      "|        Hypertension|  330|\n",
      "|Chronic sinusitis...|  251|\n",
      "|Miscarriage in fi...|  208|\n",
      "+--------------------+-----+\n",
      "only showing top 10 rows\n",
      "\n"
     ]
    }
   ],
   "source": [
    "# df_dinamico.select(['fullUrl', 'request', 'resource']).collect(0)\n",
    "# df_dinamico_resource.where(df_dinamico_resource.resourceType == \"Condition\").show(5) \n",
    "# df_dinamico_resource.where(df_dinamico_resource.resourceType == \"Condition\").count() .groupBy(\"code.text\")\n",
    "# df_dinamico_resource.where((df_dinamico_resource.resourceType == \"Condition\") & (df_dinamico_resource.code.text == \"Cardiac Arrest\")).count() #.where(df_dinamico_resource.resourceType == \"Condition\") \n",
    "\n",
    "# Quais são as 10 condições médicas mais comuns?\n",
    "df_dinamico_resource.where(df_dinamico_resource.resourceType == \"Condition\").groupBy(\"code.text\").count().sort(F.col(\"count\").desc()).show(10) #.where(df_dinamico_resource.resourceType == \"Condition\") "
   ]
  },
  {
   "cell_type": "code",
   "execution_count": 23,
   "id": "0e79a220-ab4a-4612-bf3a-3355ca33fea8",
   "metadata": {},
   "outputs": [
    {
     "name": "stdout",
     "output_type": "stream",
     "text": [
      "+--------------------+-----+\n",
      "|                text|count|\n",
      "+--------------------+-----+\n",
      "|1 ML Epoetin Alfa...| 4133|\n",
      "|   Simvistatin 10 MG| 2306|\n",
      "|Cisplatin 50 MG I...|  880|\n",
      "|PACLitaxel 100 MG...|  820|\n",
      "|Acetaminophen 325...|  622|\n",
      "|Amoxicillin 250 M...|  266|\n",
      "|Naproxen sodium 2...|  264|\n",
      "|Ibuprofen 200 MG ...|  178|\n",
      "|Hydrochlorothiazi...|  146|\n",
      "|Acetaminophen 160...|  144|\n",
      "+--------------------+-----+\n",
      "only showing top 10 rows\n",
      "\n"
     ]
    }
   ],
   "source": [
    "# Quais são os 10 medicamentos mais prescritos?\n",
    "df_dinamico_resource.where(df_dinamico_resource.resourceType == \"MedicationRequest\").groupBy(\"medicationCodeableConcept.text\").count().sort(F.col(\"count\").desc()).show(10) "
   ]
  },
  {
   "cell_type": "code",
   "execution_count": 24,
   "id": "884cd062-7c53-4e9a-8512-6c8b49262ad0",
   "metadata": {},
   "outputs": [
    {
     "name": "stdout",
     "output_type": "stream",
     "text": [
      "+------+-----+\n",
      "|gender|count|\n",
      "+------+-----+\n",
      "|  male|  567|\n",
      "+------+-----+\n",
      "\n"
     ]
    }
   ],
   "source": [
    "# Quantos pacientes são do sexo masculino?\n",
    "df_dinamico_resource.where((df_dinamico_resource.resourceType == \"Patient\") & (df_dinamico_resource.gender == \"male\")).groupBy(\"gender\").count().sort(F.col(\"count\").desc()).show(10)"
   ]
  },
  {
   "cell_type": "code",
   "execution_count": 25,
   "id": "7b4e4aa6-ea50-4384-9d4d-cbc108cabffc",
   "metadata": {},
   "outputs": [
    {
     "name": "stdout",
     "output_type": "stream",
     "text": [
      "+------+-----+\n",
      "|gender|count|\n",
      "+------+-----+\n",
      "|female|  613|\n",
      "|  male|  567|\n",
      "+------+-----+\n",
      "\n"
     ]
    }
   ],
   "source": [
    "# Quantos pacientes são do sexo masculino e quantos são do sexo feminino?\n",
    "df_dinamico_resource.where(df_dinamico_resource.resourceType == \"Patient\").groupBy(\"gender\").count().sort(F.col(\"count\").desc()).show(10)"
   ]
  },
  {
   "cell_type": "code",
   "execution_count": null,
   "id": "d8324ffe-c90c-4039-8729-9469dc29bae9",
   "metadata": {},
   "outputs": [],
   "source": [
    "# .alias(\"total\")"
   ]
  },
  {
   "cell_type": "code",
   "execution_count": 53,
   "id": "fa014992-602c-4132-ab68-496b148aa901",
   "metadata": {},
   "outputs": [],
   "source": [
    "condicao_medica = df_dinamico_resource.where(df_dinamico_resource.resourceType == \"Condition\").groupBy(\"code.text\").count().sort(F.col(\"count\").desc()).withColumnRenamed(\"text\", \"condicoes_medicas\").withColumnRenamed(\"count\", \"total\")"
   ]
  },
  {
   "cell_type": "code",
   "execution_count": 54,
   "id": "75968c06-d268-4d9b-994f-94f486b7442f",
   "metadata": {},
   "outputs": [
    {
     "name": "stdout",
     "output_type": "stream",
     "text": [
      "+--------------------+-----+\n",
      "|   condicoes_medicas|total|\n",
      "+--------------------+-----+\n",
      "|Viral sinusitis (...| 1237|\n",
      "|Acute viral phary...|  754|\n",
      "|Acute bronchitis ...|  548|\n",
      "|    Normal pregnancy|  516|\n",
      "|         Prediabetes|  388|\n",
      "|   Anemia (disorder)|  382|\n",
      "|Body mass index 3...|  346|\n",
      "|        Hypertension|  330|\n",
      "|Chronic sinusitis...|  251|\n",
      "|Miscarriage in fi...|  208|\n",
      "|        Otitis media|  191|\n",
      "|Streptococcal sor...|  189|\n",
      "|      Hyperlipidemia|  142|\n",
      "|     Sprain of ankle|  127|\n",
      "|            Diabetes|  101|\n",
      "|Hypertriglyceride...|   97|\n",
      "|Metabolic syndrom...|   96|\n",
      "|      Polyp of colon|   95|\n",
      "|Osteoarthritis of...|   69|\n",
      "|Sinusitis (disorder)|   68|\n",
      "+--------------------+-----+\n",
      "only showing top 20 rows\n",
      "\n"
     ]
    }
   ],
   "source": [
    "condicao_medica.show()"
   ]
  },
  {
   "cell_type": "code",
   "execution_count": 55,
   "id": "ddaa10a7-0e94-45ff-b759-2529ae872017",
   "metadata": {},
   "outputs": [],
   "source": [
    "medicamentos = df_dinamico_resource.where(df_dinamico_resource.resourceType == \"MedicationRequest\").groupBy(\"medicationCodeableConcept.text\").count().sort(F.col(\"count\")).withColumnRenamed(\"text\", \"remedios\").withColumnRenamed(\"count\", \"total\")"
   ]
  },
  {
   "cell_type": "code",
   "execution_count": 56,
   "id": "3362abed-0ae9-4886-8d5c-b1bab878b7dc",
   "metadata": {},
   "outputs": [],
   "source": [
    "sexo_paciente = df_dinamico_resource.where((df_dinamico_resource.resourceType == \"Patient\") & (df_dinamico_resource.gender == \"male\")).groupBy(\"gender\").count().sort(F.col(\"count\").desc()).withColumnRenamed(\"gender\", \"genero\").withColumnRenamed(\"count\", \"total\")"
   ]
  },
  {
   "cell_type": "code",
   "execution_count": 57,
   "id": "1de579f7-23ab-4fc3-9eb2-7fea3da93d1a",
   "metadata": {},
   "outputs": [],
   "source": [
    "def grava_tabela(df, nome_tabela):\n",
    "    df.write.mode(\"overwrite\").format(\"jdbc\").option(\"url\", \"jdbc:postgresql://172.18.0.2:5432/desafio\") \\\n",
    "        .option(\"dbtable\", f\"{nome_tabela}\") \\\n",
    "        .option(\"user\", \"admin\") \\\n",
    "        .option(\"password\", \"123@mudar*\").option(\"driver\", \"org.postgresql.Driver\").save()"
   ]
  },
  {
   "cell_type": "code",
   "execution_count": 58,
   "id": "efa6fdf6-e91c-4d94-a592-2e03697477fd",
   "metadata": {},
   "outputs": [],
   "source": [
    "grava_tabela(condicao_medica, \"condicao_medica\")\n",
    "grava_tabela(medicamentos, \"medicamentos\")\n",
    "grava_tabela(sexo_paciente, \"sexo_paciente\")"
   ]
  },
  {
   "cell_type": "code",
   "execution_count": 32,
   "id": "e1462d1d-6454-42af-b5ec-df7ffae5a99b",
   "metadata": {},
   "outputs": [],
   "source": [
    "# .write.mode(\"overwrite\").format(\"jdbc\").option(\"url\", \"jdbc:postgresql://172.18.0.2:5432/desafio\") \\\n",
    "#         .option(\"dbtable\", \"condicao_medica\") \\\n",
    "#         .option(\"user\", \"admin\") \\\n",
    "#         .option(\"password\", \"123@mudar*\").option(\"driver\", \"org.postgresql.Driver\").save()"
   ]
  },
  {
   "cell_type": "code",
   "execution_count": 35,
   "id": "f2e2c5c3-77c3-4d88-9040-35a9ebdff514",
   "metadata": {},
   "outputs": [],
   "source": []
  },
  {
   "cell_type": "code",
   "execution_count": null,
   "id": "faef93a3-225d-4c00-9b39-74d32b43f70a",
   "metadata": {},
   "outputs": [],
   "source": []
  },
  {
   "cell_type": "code",
   "execution_count": null,
   "id": "962fd806-b9e1-46f6-b06b-6bfab64fc439",
   "metadata": {},
   "outputs": [],
   "source": []
  },
  {
   "cell_type": "code",
   "execution_count": 259,
   "id": "1566e337-7990-4494-9b75-cf830b967f22",
   "metadata": {},
   "outputs": [
    {
     "data": {
      "text/plain": [
       "StructType([StructField('family', StringType(), True), StructField('given', ArrayType(StringType(), True), True), StructField('prefix', ArrayType(StringType(), True), True), StructField('suffix', ArrayType(StringType(), True), True), StructField('use', StringType(), True)])"
      ]
     },
     "execution_count": 259,
     "metadata": {},
     "output_type": "execute_result"
    }
   ],
   "source": [
    "dynamic_schema"
   ]
  },
  {
   "cell_type": "code",
   "execution_count": 249,
   "id": "ebb7b2ee-4157-4a1b-8e6e-277bebc53a10",
   "metadata": {},
   "outputs": [
    {
     "name": "stdout",
     "output_type": "stream",
     "text": [
      "+------+-----+\n",
      "|gender|count|\n",
      "+------+-----+\n",
      "|female|  613|\n",
      "|  male|  567|\n",
      "+------+-----+\n",
      "\n"
     ]
    }
   ],
   "source": [
    "patients_json.groupBy(\"gender\").count().sort(F.col(\"count\").desc()).show()"
   ]
  },
  {
   "cell_type": "code",
   "execution_count": 262,
   "id": "2b33f491-ceb3-4646-86df-ca33e90236d6",
   "metadata": {},
   "outputs": [
    {
     "name": "stdout",
     "output_type": "stream",
     "text": [
      "+--------------------+-------------+-------------+------+--------+------+----------+\n",
      "|          patient_id|       family|        given|prefix|     use|gender|birth_date|\n",
      "+--------------------+-------------+-------------+------+--------+------+----------+\n",
      "|0718123b-5034-496...|     Jerde200|   [Floyd420]| [Mr.]|official|  male|1917-08-06|\n",
      "|df121e33-f3dc-4d0...|  Leuschke194|[Theodore876]| [Mr.]|official|  male|1924-06-30|\n",
      "|f156b85a-67c6-423...|     Rojas511|   [Pedro316]| [Mr.]|official|  male|1912-10-17|\n",
      "|b0f49c80-b59b-4df...|Echevarría842|   [Ester635]|[Mrs.]|official|female|1927-06-20|\n",
      "|37ff5999-5a5a-472...|  Baumbach677|[Faustino767]| [Mr.]|official|  male|1951-05-24|\n",
      "|cbaf7927-acab-449...|    Wunsch504|   [Myles862]| [Mr.]|official|  male|1911-04-08|\n",
      "|32fde49e-97b8-483...| Hettinger594|  [Wilbur107]| [Mr.]|official|  male|1958-03-22|\n",
      "|543a7d59-fe25-464...|   Murazik203|   [Amado512]| [Mr.]|official|  male|1919-09-19|\n",
      "|6a92b6f5-0f67-4bd...|     Rohan584|   [Rhett759]| [Mr.]|official|  male|1946-08-06|\n",
      "|b4be702f-d857-45d...|McCullough561|  [Barney639]| [Mr.]|official|  male|1946-03-29|\n",
      "|afafca2f-b97d-4fc...|   Cuellar188| [Lorenzo669]| [Mr.]|official|  male|1940-08-12|\n",
      "|da81473d-6cce-400...|     Nader710| [Zackary401]| [Mr.]|official|  male|1936-03-12|\n",
      "|5568bd06-d6a6-46a...|   Ramírez776|    [Sara501]|[Mrs.]|official|female|1952-05-28|\n",
      "|4b5e42a8-b3e6-411...|    Legros616|   [Brian582]| [Mr.]|official|  male|1921-10-27|\n",
      "|9b6d3d93-b082-40a...|    Murphy561|   [Marva153]|[Mrs.]|official|female|1927-08-11|\n",
      "|8e674838-e3da-4bc...|     Doyle959|     [Mel236]| [Mr.]|official|  male|1955-11-27|\n",
      "|4cb0d703-97c8-4ee...| Bergstrom287|   [Elias404]| [Mr.]|official|  male|1921-10-27|\n",
      "|db8e91f4-3e3d-4a9...|       Purdy2|  [Sandie760]|[Mrs.]|official|female|1932-07-07|\n",
      "|8143897c-e650-4e5...|      Huel628|  [Coleman27]| [Mr.]|official|  male|1931-09-18|\n",
      "|7970118f-1c13-4ee...|  Franecki195|  [Danyel335]|[Mrs.]|official|female|1914-01-23|\n",
      "+--------------------+-------------+-------------+------+--------+------+----------+\n",
      "only showing top 20 rows\n",
      "\n"
     ]
    }
   ],
   "source": [
    "patients_json = df_dinamico.filter(df_dinamico.resource.resourceType == \"Patient\").select(\n",
    "    F.col(\"resource.id\").alias(\"patient_id\"),\n",
    "    F.col(\"resource.name\").alias('nome'),\n",
    "    F.col(\"resource.gender\").alias(\"gender\"),\n",
    "    F.col(\"resource.birthDate\").alias(\"birth_date\")\n",
    ")\n",
    "\n",
    "dynamic_schema = spark.read.json(patients_json.rdd.map(lambda row: row.nome)).schema\n",
    "\n",
    "patients_json = patients_json.withColumn(\"exploded_name\" , F.from_json(F.col(\"nome\"), ArrayType(dynamic_schema))) # .select(\"exploded_name.*\")\n",
    "\n",
    "# patients_json.show()\n",
    "\n",
    "patients_json = patients_json.select(\n",
    "    F.col(\"patient_id\"),\n",
    "    F.col(\"exploded_name\")[0].family.alias(\"family\"),\n",
    "    F.col(\"exploded_name\")[0].given.alias(\"given\"),\n",
    "    F.col(\"exploded_name\")[0].prefix.alias(\"prefix\"),\n",
    "    F.col(\"exploded_name\")[0].use.alias(\"use\"),\n",
    "    F.col(\"gender\"),\n",
    "    F.col(\"birth_date\")\n",
    ")\n",
    "\n",
    "patients_json.show()"
   ]
  },
  {
   "cell_type": "code",
   "execution_count": 65,
   "id": "86abc9b2-4a28-42c6-8656-4349404ebedd",
   "metadata": {},
   "outputs": [],
   "source": []
  },
  {
   "cell_type": "code",
   "execution_count": 201,
   "id": "48bc9bbe-d6f5-4ec0-9c2c-7d6a66c9c157",
   "metadata": {},
   "outputs": [
    {
     "name": "stdout",
     "output_type": "stream",
     "text": [
      "+--------------------+--------------------+--------------------+----------------------+--------------------+--------------------------+\n",
      "|   claim_total_value|            claim_id|   patient_reference|organization_reference|       claim_created|exploded_claim_total_value|\n",
      "+--------------------+--------------------+--------------------+----------------------+--------------------+--------------------------+\n",
      "|{\"value\":263.49,\"...|716c1bde-4c02-428...|urn:uuid:0718123b...|  urn:uuid:78418eeb...|1935-09-30T09:19:...|             {USD, 263.49}|\n",
      "|{\"value\":129.16,\"...|0b06c9bc-9ff8-4fc...|urn:uuid:0718123b...|  urn:uuid:78418eeb...|1935-09-30T09:19:...|             {USD, 129.16}|\n",
      "|{\"value\":129.16,\"...|024d7ca2-3907-4fe...|urn:uuid:0718123b...|  urn:uuid:4861d01f...|1941-12-28T10:04:...|             {USD, 129.16}|\n",
      "|{\"value\":129.16,\"...|6242e6d4-e30b-453...|urn:uuid:0718123b...|  urn:uuid:4861d01f...|1945-07-31T11:04:...|             {USD, 129.16}|\n",
      "|{\"value\":77.49,\"c...|cf12ad92-7400-44c...|urn:uuid:0718123b...|  urn:uuid:8881e3ee...|1945-08-02T11:11:...|              {USD, 77.49}|\n",
      "|{\"value\":129.16,\"...|2bd58c6b-322c-46a...|urn:uuid:0718123b...|  urn:uuid:78418eeb...|1945-10-15T09:34:...|             {USD, 129.16}|\n",
      "|{\"value\":129.16,\"...|aa0d5b26-94ef-400...|urn:uuid:0718123b...|  urn:uuid:78418eeb...|1948-10-18T09:34:...|             {USD, 129.16}|\n",
      "|{\"value\":4.09,\"cu...|87b86896-a671-429...|urn:uuid:0718123b...|  urn:uuid:78418eeb...|1951-10-22T09:34:...|               {USD, 4.09}|\n",
      "|{\"value\":129.16,\"...|b7c6ec74-9a11-4ca...|urn:uuid:0718123b...|  urn:uuid:78418eeb...|1951-10-22T09:34:...|             {USD, 129.16}|\n",
      "|{\"value\":129.16,\"...|727f0be4-51be-467...|urn:uuid:0718123b...|  urn:uuid:4861d01f...|1952-09-01T10:19:...|             {USD, 129.16}|\n",
      "|{\"value\":8.18,\"cu...|420ccd96-3de3-4e4...|urn:uuid:0718123b...|  urn:uuid:4861d01f...|1953-07-28T10:19:...|               {USD, 8.18}|\n",
      "|{\"value\":129.16,\"...|b5ce7f39-79bb-4d3...|urn:uuid:0718123b...|  urn:uuid:4861d01f...|1953-07-28T10:19:...|             {USD, 129.16}|\n",
      "|{\"value\":178.81,\"...|6fb80991-8d5e-49e...|urn:uuid:0718123b...|  urn:uuid:4861d01f...|1955-03-14T09:19:...|             {USD, 178.81}|\n",
      "|{\"value\":129.16,\"...|beb39ddc-78c4-421...|urn:uuid:0718123b...|  urn:uuid:4861d01f...|1955-03-14T09:19:...|             {USD, 129.16}|\n",
      "|{\"value\":129.16,\"...|f6749513-c0a7-4f2...|urn:uuid:0718123b...|  urn:uuid:4861d01f...|1962-05-07T11:34:...|             {USD, 129.16}|\n",
      "|{\"value\":129.16,\"...|22eee4d0-35d5-49b...|urn:uuid:0718123b...|  urn:uuid:4861d01f...|1965-08-16T10:19:...|             {USD, 129.16}|\n",
      "|{\"value\":263.49,\"...|c1535e6c-e1b6-416...|urn:uuid:0718123b...|  urn:uuid:4861d01f...|1965-09-06T10:19:...|             {USD, 263.49}|\n",
      "|{\"value\":129.16,\"...|94d1cbcd-66db-424...|urn:uuid:0718123b...|  urn:uuid:4861d01f...|1965-09-06T10:19:...|             {USD, 129.16}|\n",
      "|{\"value\":263.49,\"...|00bb255b-1003-423...|urn:uuid:0718123b...|  urn:uuid:4861d01f...|1966-09-06T10:19:...|             {USD, 263.49}|\n",
      "|{\"value\":129.16,\"...|da974378-0f66-462...|urn:uuid:0718123b...|  urn:uuid:4861d01f...|1966-09-06T10:19:...|             {USD, 129.16}|\n",
      "+--------------------+--------------------+--------------------+----------------------+--------------------+--------------------------+\n",
      "only showing top 20 rows\n",
      "\n"
     ]
    }
   ],
   "source": [
    "claims_json = df_dinamico.filter(df_dinamico.resource.resourceType == \"Claim\").select(\n",
    "    F.col(\"resource.total\").alias('claim_total_value'),\n",
    "    F.col(\"resource.id\").alias(\"claim_id\"),\n",
    "    F.col(\"resource.patient.reference\").alias(\"patient_reference\"),\n",
    "    F.col(\"resource.provider.reference\").alias(\"organization_reference\"),\n",
    "    F.col(\"resource.created\").alias(\"claim_created\"))\n",
    "\n",
    "dynamic_schema_claims = spark.read.json(claims_json.rdd.map(lambda row: row.claim_total_value)).schema\n",
    "claims_json_exploded = claims_json.withColumn(\"exploded_claim_total_value\" , F.from_json(F.col(\"claim_total_value\"), dynamic_schema_claims)) # .select(\"exploded_name.*\")\n",
    "claims_json_exploded.show()"
   ]
  },
  {
   "cell_type": "code",
   "execution_count": null,
   "id": "e73cd159-9279-415e-9fd5-d6b444784ad3",
   "metadata": {},
   "outputs": [],
   "source": []
  },
  {
   "cell_type": "code",
   "execution_count": 203,
   "id": "896aa572-2d29-4af2-9736-a00050a46514",
   "metadata": {},
   "outputs": [
    {
     "name": "stdout",
     "output_type": "stream",
     "text": [
      "+--------------------+--------------------+---------------+-----+-------+\n",
      "|     organization_id|   organization_name|           city|state|country|\n",
      "+--------------------+--------------------+---------------+-----+-------+\n",
      "|78418eeb-8ad8-3bc...|           PCP207753|           HULL|   MA|     US|\n",
      "|4861d01f-019c-3da...|NORTH SHORE MEDIC...|          SALEM|   MA|     US|\n",
      "|8881e3ee-e915-31b...|Lynn Community Ba...|           Lynn|   MA|     US|\n",
      "|9b5f23f1-c387-3a7...|      FAMILY DOCTORS|     SWAMPSCOTT|   MA|     US|\n",
      "|65110f22-e3e1-34f...|             PCP8766|         MEDWAY|   MA|     US|\n",
      "|24cb4eab-6166-353...|MILFORD REGIONAL ...|        MILFORD|   MA|     US|\n",
      "|53b25c4b-e95f-3dd...|Framingham Outpat...|     Framingham|   MA|     US|\n",
      "|b06770b5-b695-3c1...| GENERAL HEALTH CARE|NORTH ATTLEBORO|   MA|     US|\n",
      "|de36f40b-6ae9-3c9...|            PCP97489|   NORTHBOROUGH|   MA|     US|\n",
      "|331f4c11-d298-308...|CLINTON HOSPITAL ...|        CLINTON|   MA|     US|\n",
      "|ebc3f5c4-6700-34a...|      NOBLE HOSPITAL|      WESTFIELD|   MA|     US|\n",
      "|ccce1094-1ec7-3b8...|           PCP190661|    SOUTHAMPTON|   MA|     US|\n",
      "|108ccece-277a-396...|ON CALL URGENT CA...|    NORTHAMPTON|   MA|     US|\n",
      "|d961ae86-724f-39c...|GAIL S MARCHETTO ...|       ABINGTON|   MA|     US|\n",
      "|226098a2-6a40-358...|GOOD SAMARITAN ME...|       BROCKTON|   MA|     US|\n",
      "|c44f361c-2efb-305...|SIGNATURE HEALTHC...|       BROCKTON|   MA|     US|\n",
      "|0d1563c1-d56c-362...|URGENT CARE MEDIC...|       BROCKTON|   MA|     US|\n",
      "|37b4d73f-652d-303...|ANNA JAQUES HOSPITAL|    NEWBURYPORT|   MA|     US|\n",
      "|5d6e3168-eea5-318...|            PCP56543|       AMESBURY|   MA|     US|\n",
      "|8ad64ecf-c817-375...|     MORTON HOSPITAL|        TAUNTON|   MA|     US|\n",
      "+--------------------+--------------------+---------------+-----+-------+\n",
      "only showing top 20 rows\n",
      "\n"
     ]
    }
   ],
   "source": [
    "organizations = df_dinamico.filter(df_dinamico.resource.resourceType == \"Organization\").select(\n",
    "    F.col(\"resource.id\").alias(\"organization_id\"),\n",
    "    F.col(\"resource.name\").alias(\"organization_name\"),\n",
    "    F.col(\"resource.address\")[0].city.alias(\"city\"),\n",
    "    F.col(\"resource.address\")[0].state.alias(\"state\"),\n",
    "    F.col(\"resource.address\")[0].country.alias(\"country\")\n",
    ")\n",
    "organizations.show()"
   ]
  },
  {
   "cell_type": "code",
   "execution_count": null,
   "id": "4c1b6f75-53b6-4df2-9780-4fc4e46a6647",
   "metadata": {},
   "outputs": [],
   "source": []
  },
  {
   "cell_type": "code",
   "execution_count": 225,
   "id": "a5387cad-2196-42a0-8071-b6451bd9f634",
   "metadata": {},
   "outputs": [
    {
     "name": "stdout",
     "output_type": "stream",
     "text": [
      "+--------------------+------------------------+-----------------------+-------------------+\n",
      "|     practitioner_id|practitioner_family_name|practitioner_given_name|practitioner_gender|\n",
      "+--------------------+------------------------+-----------------------+-------------------+\n",
      "|0000016d-3a85-4cc...|             Iglesias873|              Víctor493|               male|\n",
      "|0000016d-3a85-4cc...|               Kohler843|               Bobby524|               male|\n",
      "|0000016d-3a85-4cc...|              Kessler503|               Wayne846|               male|\n",
      "|0000016d-3a85-4cc...|                Berge125|             Thurman577|               male|\n",
      "|0000016d-3a85-4cc...|                 Hand679|                Jane262|             female|\n",
      "|0000016d-3a85-4cc...|                Nolan344|            Kymberly381|             female|\n",
      "|0000016d-3a85-4cc...|             Homenick806|              Stevie682|             female|\n",
      "|0000016d-3a85-4cc...|              Pacocha935|                Mira443|             female|\n",
      "|0000016d-3a85-4cc...|             Schiller186|             Novella551|             female|\n",
      "|0000016d-3a85-4cc...|             Reynolds644|                Saul605|               male|\n",
      "|0000016d-3a85-4cc...|             Luettgen772|               Shawn523|               male|\n",
      "|0000016d-3a85-4cc...|              Bartell116|               Oneida64|             female|\n",
      "|0000016d-3a85-4cc...|               Becker968|             Tabatha105|             female|\n",
      "|0000016d-3a85-4cc...|                Adams676|          Christinia886|             female|\n",
      "|0000016d-3a85-4cc...|          Satterfield305|             Gillian484|             female|\n",
      "|0000016d-3a85-4cc...|                Towne435|                Amos720|               male|\n",
      "|0000016d-3a85-4cc...|            Wilderman619|             Malcolm243|               male|\n",
      "|0000016d-3a85-4cc...|            Bahringer146|             Antoine384|               male|\n",
      "|0000016d-3a85-4cc...|              Kreiger457|            Anderson154|               male|\n",
      "|0000016d-3a85-4cc...|          Breitenberg711|             Bennett146|               male|\n",
      "+--------------------+------------------------+-----------------------+-------------------+\n",
      "only showing top 20 rows\n",
      "\n"
     ]
    }
   ],
   "source": [
    "practitioners = df_dinamico.filter(df_dinamico.resource.resourceType == \"Practitioner\").select(\n",
    "    F.col(\"resource.id\").alias(\"practitioner_id\"),\n",
    "    F.col(\"resource.name\").alias(\"name\"),\n",
    "    # F.col(\"resource.name\")[0].given[0].alias(\"practitioner_given_name\"),\n",
    "    F.col(\"resource.gender\").alias(\"practitioner_gender\")\n",
    ")\n",
    "# practitioners.show()\n",
    "dynamic_schema_practitioners = spark.read.json(practitioners.rdd.map(lambda row: row.name)).schema\n",
    "practitioners_json_exploded = practitioners.withColumn(\"exploded_name\" , F.from_json(F.col(\"name\"), ArrayType(dynamic_schema_practitioners))) # .select(\"exploded_name.*\")\n",
    "# practitioners_json_exploded.show()\n",
    "\n",
    "practitioners_json_exploded.select(\n",
    "    F.col(\"practitioner_id\"),\n",
    "    # F.col(\"resource.name\").alias(\"name\"),\n",
    "    F.col(\"exploded_name\")[0].family.alias(\"practitioner_family_name\"),\n",
    "    F.col(\"exploded_name\")[0].given[0].alias(\"practitioner_given_name\"),\n",
    "    F.col(\"practitioner_gender\")\n",
    ").show()"
   ]
  },
  {
   "cell_type": "code",
   "execution_count": null,
   "id": "c983cf50-db62-440c-b7ad-d1f825b0655f",
   "metadata": {},
   "outputs": [],
   "source": []
  },
  {
   "cell_type": "code",
   "execution_count": null,
   "id": "175750dc-2a6b-487a-a015-72cfc3575301",
   "metadata": {},
   "outputs": [],
   "source": [
    "# practitioners_json_exploded.select(F.col(\"exploded_name\")[0].family.alias(\"practitioner_family_name\")).show()"
   ]
  },
  {
   "cell_type": "code",
   "execution_count": null,
   "id": "077370d2-6ba4-4533-9a4b-98160d0da899",
   "metadata": {},
   "outputs": [],
   "source": [
    "# practitioners_json_exploded.select(F.col(\"exploded_name\")[0].given[0].alias(\"practitioner_given_name\")).show()"
   ]
  },
  {
   "cell_type": "code",
   "execution_count": null,
   "id": "a659ea48-0577-4386-8687-e71f9a374996",
   "metadata": {},
   "outputs": [],
   "source": []
  },
  {
   "cell_type": "code",
   "execution_count": 227,
   "id": "06b4f56e-2ff3-4518-ab1b-d4c2a2c28508",
   "metadata": {},
   "outputs": [
    {
     "name": "stdout",
     "output_type": "stream",
     "text": [
      "+--------------------+--------------------+----------------------+----------------------+--------------------+--------------------+\n",
      "|        encounter_id|   patient_reference|practitioner_reference|organization_reference|     encounter_start|       encounter_end|\n",
      "+--------------------+--------------------+----------------------+----------------------+--------------------+--------------------+\n",
      "|2b772e4b-8e9f-438...|urn:uuid:0718123b...|  urn:uuid:0000016d...|  urn:uuid:78418eeb...|1935-09-30T09:04:...|1935-09-30T09:19:...|\n",
      "|7c8a02ca-f312-433...|urn:uuid:0718123b...|  urn:uuid:0000016d...|  urn:uuid:4861d01f...|1941-12-28T09:04:...|1941-12-28T10:04:...|\n",
      "|0b288f8e-f579-49b...|urn:uuid:0718123b...|  urn:uuid:0000016d...|  urn:uuid:4861d01f...|1945-07-31T10:04:...|1945-07-31T11:04:...|\n",
      "|0b79390f-992c-4af...|urn:uuid:0718123b...|  urn:uuid:0000016d...|  urn:uuid:8881e3ee...|1945-07-31T10:04:...|1945-08-02T11:11:...|\n",
      "|589adc6f-4329-49b...|urn:uuid:0718123b...|  urn:uuid:0000016d...|  urn:uuid:78418eeb...|1945-10-15T09:04:...|1945-10-15T09:34:...|\n",
      "|3ed700cf-0f98-46b...|urn:uuid:0718123b...|  urn:uuid:0000016d...|  urn:uuid:78418eeb...|1948-10-18T09:04:...|1948-10-18T09:34:...|\n",
      "|1927bf38-7b65-494...|urn:uuid:0718123b...|  urn:uuid:0000016d...|  urn:uuid:78418eeb...|1951-10-22T09:04:...|1951-10-22T09:34:...|\n",
      "|39bd8d40-20c7-443...|urn:uuid:0718123b...|  urn:uuid:0000016d...|  urn:uuid:4861d01f...|1952-09-01T10:04:...|1952-09-01T10:19:...|\n",
      "|eeb554aa-2412-460...|urn:uuid:0718123b...|  urn:uuid:0000016d...|  urn:uuid:4861d01f...|1953-07-28T10:04:...|1953-07-28T10:19:...|\n",
      "|a2f90e9f-5854-484...|urn:uuid:0718123b...|  urn:uuid:0000016d...|  urn:uuid:4861d01f...|1955-03-14T09:04:...|1955-03-14T09:19:...|\n",
      "|3604a864-dd05-4d5...|urn:uuid:0718123b...|  urn:uuid:0000016d...|  urn:uuid:4861d01f...|1962-05-07T10:04:...|1962-05-07T11:34:...|\n",
      "|bf6df68b-0611-4c5...|urn:uuid:0718123b...|  urn:uuid:0000016d...|  urn:uuid:4861d01f...|1965-08-16T10:04:...|1965-08-16T10:19:...|\n",
      "|9eeca1ab-f5fd-477...|urn:uuid:0718123b...|  urn:uuid:0000016d...|  urn:uuid:4861d01f...|1965-09-06T10:04:...|1965-09-06T10:19:...|\n",
      "|297f2df0-5746-441...|urn:uuid:0718123b...|  urn:uuid:0000016d...|  urn:uuid:4861d01f...|1966-09-06T10:04:...|1966-09-06T10:19:...|\n",
      "|ae32998c-0133-45b...|urn:uuid:0718123b...|  urn:uuid:0000016d...|  urn:uuid:4861d01f...|1967-09-06T10:04:...|1967-09-06T10:19:...|\n",
      "|7f9351de-8d43-483...|urn:uuid:0718123b...|  urn:uuid:0000016d...|  urn:uuid:4861d01f...|1968-09-05T10:04:...|1968-09-05T10:19:...|\n",
      "|ecbe8b39-5035-453...|urn:uuid:0718123b...|  urn:uuid:0000016d...|  urn:uuid:4861d01f...|1969-09-05T10:04:...|1969-09-05T10:19:...|\n",
      "|ca9e97b7-d784-461...|urn:uuid:0718123b...|  urn:uuid:0000016d...|  urn:uuid:4861d01f...|1970-09-05T10:04:...|1970-09-05T10:19:...|\n",
      "|113e025f-ef71-47d...|urn:uuid:0718123b...|  urn:uuid:0000016d...|  urn:uuid:4861d01f...|1971-09-05T10:04:...|1971-09-05T10:19:...|\n",
      "|78af78f9-dcd5-40d...|urn:uuid:0718123b...|  urn:uuid:0000016d...|  urn:uuid:4861d01f...|1972-09-04T10:04:...|1972-09-04T10:19:...|\n",
      "+--------------------+--------------------+----------------------+----------------------+--------------------+--------------------+\n",
      "only showing top 20 rows\n",
      "\n"
     ]
    }
   ],
   "source": [
    "encounters = df_dinamico.filter(df_dinamico.resource.resourceType == \"Encounter\").select(\n",
    "    F.col(\"resource.id\").alias(\"encounter_id\"),\n",
    "    F.col(\"resource.subject.reference\").alias(\"patient_reference\"),\n",
    "    F.col(\"resource.participant\")[0].individual.reference.alias(\"practitioner_reference\"),\n",
    "    F.col(\"resource.serviceProvider.reference\").alias(\"organization_reference\"),\n",
    "    F.col(\"resource.period.start\").alias(\"encounter_start\"),\n",
    "    F.col(\"resource.period.end\").alias(\"encounter_end\")\n",
    ")\n",
    "encounters.show()"
   ]
  },
  {
   "cell_type": "code",
   "execution_count": null,
   "id": "99720edb-6966-481d-8a09-982ce8c81e77",
   "metadata": {},
   "outputs": [],
   "source": []
  },
  {
   "cell_type": "code",
   "execution_count": null,
   "id": "b02e27f5-a3e5-4e49-a14e-b56ab9b7f831",
   "metadata": {},
   "outputs": [],
   "source": []
  },
  {
   "cell_type": "code",
   "execution_count": 229,
   "id": "6b660161-1c7e-4995-8236-f94d553abbd1",
   "metadata": {},
   "outputs": [
    {
     "name": "stdout",
     "output_type": "stream",
     "text": [
      "+--------------------+--------------------+--------------------+--------------------+--------------------+\n",
      "|        condition_id|   patient_reference| encounter_reference|      condition_text|          onset_date|\n",
      "+--------------------+--------------------+--------------------+--------------------+--------------------+\n",
      "|e8724820-f81f-47a...|urn:uuid:0718123b...|urn:uuid:2b772e4b...|        Hypertension|1935-09-30T09:04:...|\n",
      "|3284a52e-ba56-449...|urn:uuid:0718123b...|urn:uuid:0b288f8e...|        Appendicitis|1945-07-31T10:04:...|\n",
      "|f1453845-969a-4d7...|urn:uuid:0718123b...|urn:uuid:0b79390f...|History of append...|1945-07-31T10:04:...|\n",
      "|72bbb4ae-b523-4a1...|urn:uuid:0718123b...|urn:uuid:0b79390f...|         Prediabetes|1945-08-06T10:04:...|\n",
      "|c1738686-6a96-499...|urn:uuid:0718123b...|urn:uuid:589adc6f...|   Anemia (disorder)|1945-10-15T09:04:...|\n",
      "|ec78f74b-5518-4cc...|urn:uuid:0718123b...|urn:uuid:3ed700cf...|            Diabetes|1948-10-18T09:04:...|\n",
      "|6c6497ce-8849-4d0...|urn:uuid:0718123b...|urn:uuid:1927bf38...|Hypertriglyceride...|1951-10-22T09:04:...|\n",
      "|9a465a1e-dbb5-4c0...|urn:uuid:0718123b...|urn:uuid:1927bf38...|Metabolic syndrom...|1951-10-22T09:04:...|\n",
      "|ec07e018-6ca2-480...|urn:uuid:0718123b...|urn:uuid:39bd8d40...|Hyperglycemia (di...|1952-09-01T10:04:...|\n",
      "|d2198fc8-874e-4d7...|urn:uuid:0718123b...|urn:uuid:39bd8d40...|Chronic kidney di...|1952-09-01T10:04:...|\n",
      "|bb5968a8-5bbd-403...|urn:uuid:0718123b...|urn:uuid:39bd8d40...|Diabetic renal di...|1952-09-01T10:04:...|\n",
      "|093692a1-e9c4-408...|urn:uuid:0718123b...|urn:uuid:eeb554aa...|Localized, primar...|1953-07-28T10:04:...|\n",
      "|a2da1c35-aa57-400...|urn:uuid:0718123b...|urn:uuid:3604a864...|              Stroke|1962-05-07T10:04:...|\n",
      "|e19d959b-25d4-4e5...|urn:uuid:0718123b...|urn:uuid:bf6df68b...|      Hyperlipidemia|1965-08-16T10:04:...|\n",
      "|4cbb66e3-0721-452...|urn:uuid:0718123b...|urn:uuid:d9908df4...|    Seizure disorder|1991-07-19T10:04:...|\n",
      "|d34cfc75-03f6-48e...|urn:uuid:0718123b...|urn:uuid:d9908df4...|History of single...|1991-07-19T10:04:...|\n",
      "|d4d9f6c3-297d-467...|urn:uuid:0718123b...|urn:uuid:5d7f565c...|Neoplasm of prostate|1996-01-15T09:04:...|\n",
      "|d0d59b61-bd6b-443...|urn:uuid:0718123b...|urn:uuid:5d7f565c...|Carcinoma in situ...|1996-01-15T09:04:...|\n",
      "|0080e1b7-a117-48c...|urn:uuid:0718123b...|urn:uuid:62dfcd4c...|Alzheimer's disea...|1998-08-10T10:04:...|\n",
      "|aa0b7d9c-879a-4ce...|urn:uuid:0718123b...|urn:uuid:3f0c6bb5...|Streptococcal sor...|2003-12-22T09:04:...|\n",
      "+--------------------+--------------------+--------------------+--------------------+--------------------+\n",
      "only showing top 20 rows\n",
      "\n"
     ]
    }
   ],
   "source": [
    "conditions =  df_dinamico.filter(df_dinamico.resource.resourceType == \"Condition\").select(\n",
    "    F.col(\"resource.id\").alias(\"condition_id\"),\n",
    "    F.col(\"resource.subject.reference\").alias(\"patient_reference\"),\n",
    "    F.col(\"resource.encounter.reference\").alias(\"encounter_reference\"),\n",
    "    F.col(\"resource.code.text\").alias(\"condition_text\"),\n",
    "    F.col(\"resource.onsetDateTime\").alias(\"onset_date\")\n",
    ")\n",
    "conditions.show()"
   ]
  },
  {
   "cell_type": "code",
   "execution_count": null,
   "id": "d31ebaf2-12f2-49f1-a22d-765fe5ef38d8",
   "metadata": {},
   "outputs": [],
   "source": []
  },
  {
   "cell_type": "code",
   "execution_count": null,
   "id": "394d84d1-6b29-4fd7-aeae-2a3695a4716a",
   "metadata": {},
   "outputs": [],
   "source": []
  },
  {
   "cell_type": "code",
   "execution_count": 233,
   "id": "1574f35e-43cf-42c6-8012-f1ac6ea63f33",
   "metadata": {},
   "outputs": [
    {
     "name": "stdout",
     "output_type": "stream",
     "text": [
      "+--------------------+--------------------+--------------------+--------------------+--------------------+--------------------+\n",
      "|           device_id|   patient_reference|         device_type|    manufacture_date|     expiration_date|exploded_device_type|\n",
      "+--------------------+--------------------+--------------------+--------------------+--------------------+--------------------+\n",
      "|86cc7603-0a80-445...|urn:uuid:df121e33...|{\"coding\":[{\"syst...|2004-03-07T23:17:...|2029-03-23T00:17:...|{[{706004007, Imp...|\n",
      "|ae974cb9-24bf-4ef...|urn:uuid:4b5e42a8...|{\"coding\":[{\"syst...|2005-02-17T09:03:...|2030-03-04T09:03:...|{[{706004007, Imp...|\n",
      "|ab1c2ee6-de75-47b...|urn:uuid:4cb0d703...|{\"coding\":[{\"syst...|1975-11-13T09:03:...|2000-11-27T09:03:...|{[{72506001, Impl...|\n",
      "|a141fa86-7edd-446...|urn:uuid:8055d1ca...|{\"coding\":[{\"syst...|2018-09-10T22:53:...|2043-09-25T22:53:...|{[{706004007, Imp...|\n",
      "|382c81b3-b589-411...|urn:uuid:86017b61...|{\"coding\":[{\"syst...|2008-09-26T10:50:...|2033-10-11T10:50:...|{[{72506001, Impl...|\n",
      "|0da7b9a2-aca8-420...|urn:uuid:86337f98...|{\"coding\":[{\"syst...|2018-02-21T23:24:...|2043-03-09T00:24:...|{[{706004007, Imp...|\n",
      "|17fc6f38-cfcf-40b...|urn:uuid:496593fe...|{\"coding\":[{\"syst...|1932-01-02T06:45:...|1957-01-16T06:45:...|{[{72506001, Impl...|\n",
      "|b5d1b483-48c0-417...|urn:uuid:7bda71d3...|{\"coding\":[{\"syst...|1998-02-08T02:16:...|2023-02-23T02:16:...|{[{705643001, Cor...|\n",
      "|3c701b97-4a06-435...|urn:uuid:00953a86...|{\"coding\":[{\"syst...|1988-10-10T00:17:...|2013-10-25T00:17:...|{[{705643001, Cor...|\n",
      "|7a3f445d-6828-4fb...|urn:uuid:982beb81...|{\"coding\":[{\"syst...|1993-05-01T04:10:...|2018-05-16T04:10:...|{[{72506001, Impl...|\n",
      "|3b6827d7-baf9-439...|urn:uuid:3adee3e0...|{\"coding\":[{\"syst...|1995-02-17T11:11:...|2020-03-03T11:11:...|{[{72506001, Impl...|\n",
      "|16a8605e-1057-436...|urn:uuid:545d43cc...|{\"coding\":[{\"syst...|1989-06-22T02:59:...|2014-07-07T02:59:...|{[{72506001, Impl...|\n",
      "|08df219c-5528-4ba...|urn:uuid:b495844d...|{\"coding\":[{\"syst...|1983-03-04T12:56:...|2008-03-18T13:56:...|{[{705643001, Cor...|\n",
      "|9b408ea8-baa7-448...|urn:uuid:80afed8b...|{\"coding\":[{\"syst...|1998-04-13T01:44:...|2023-04-28T01:44:...|{[{72506001, Impl...|\n",
      "|164d2ca6-c27a-4dc...|urn:uuid:71b1637b...|{\"coding\":[{\"syst...|2013-03-28T21:24:...|2038-04-12T21:24:...|{[{72506001, Impl...|\n",
      "|7730236d-5196-4b7...|urn:uuid:3970f2f7...|{\"coding\":[{\"syst...|1970-06-08T15:46:...|1995-06-23T15:46:...|{[{72506001, Impl...|\n",
      "|f16a99d8-8873-4ba...|urn:uuid:bdc5eb69...|{\"coding\":[{\"syst...|2007-08-06T00:17:...|2032-08-20T00:17:...|{[{705643001, Cor...|\n",
      "|5700b115-b3f4-476...|urn:uuid:44b9787b...|{\"coding\":[{\"syst...|1993-10-15T01:15:...|2018-10-30T01:15:...|{[{72506001, Impl...|\n",
      "|50e43435-c1d0-413...|urn:uuid:cf7e8713...|{\"coding\":[{\"syst...|1995-07-17T12:04:...|2020-07-31T12:04:...|{[{706004007, Imp...|\n",
      "|38792159-eea2-405...|urn:uuid:bc8b8725...|{\"coding\":[{\"syst...|1999-01-28T20:24:...|2024-02-12T20:24:...|{[{72506001, Impl...|\n",
      "+--------------------+--------------------+--------------------+--------------------+--------------------+--------------------+\n",
      "only showing top 20 rows\n",
      "\n"
     ]
    }
   ],
   "source": [
    "devices =  df_dinamico.filter(df_dinamico.resource.resourceType == \"Device\").select(\n",
    "    F.col(\"resource.id\").alias(\"device_id\"),\n",
    "    F.col(\"resource.patient.reference\").alias(\"patient_reference\"),\n",
    "    F.col(\"resource.type\").alias(\"device_type\"),\n",
    "    F.col(\"resource.manufactureDate\").alias(\"manufacture_date\"),\n",
    "    F.col(\"resource.expirationDate\").alias(\"expiration_date\")\n",
    ")\n",
    "# devices.show()\n",
    "\n",
    "\n",
    "\n",
    "dynamic_schema_devices = spark.read.json(devices.rdd.map(lambda row: row.device_type)).schema\n",
    "devices_json_exploded = devices.withColumn(\"exploded_device_type\" , F.from_json(F.col(\"device_type\"), dynamic_schema_devices)) # .select(\"exploded_name.*\")\n",
    "devices_json_exploded.show()\n",
    "\n"
   ]
  },
  {
   "cell_type": "code",
   "execution_count": null,
   "id": "f1241952-ce2e-4736-908c-34408ee720f7",
   "metadata": {},
   "outputs": [],
   "source": []
  },
  {
   "cell_type": "code",
   "execution_count": 236,
   "id": "3c26b412-d01c-4760-a544-e08c33977b4b",
   "metadata": {},
   "outputs": [],
   "source": [
    "df_medicamentos = df_dinamico_resource.where(df_dinamico_resource.resourceType == \"MedicationRequest\")"
   ]
  },
  {
   "cell_type": "code",
   "execution_count": 246,
   "id": "5f3eaf6e-6679-4b9f-9cf3-2bad83223aea",
   "metadata": {},
   "outputs": [
    {
     "name": "stdout",
     "output_type": "stream",
     "text": [
      "+--------------------+-------+------+--------------------+--------------------+\n",
      "|                  id| status|intent|                text|          authoredOn|\n",
      "+--------------------+-------+------+--------------------+--------------------+\n",
      "|eb7f5891-2265-495...| active| order|Hydrochlorothiazi...|1935-09-30T09:04:...|\n",
      "|0c07899f-1349-48a...| active| order|24 HR Metformin h...|1951-10-22T09:04:...|\n",
      "|14a04af3-88be-404...|stopped| order|Naproxen sodium 2...|1953-07-28T10:04:...|\n",
      "|d23a5043-3f64-4da...| active| order|insulin human, is...|1955-03-14T09:04:...|\n",
      "|d5d91624-cd6c-46a...|stopped| order|   Simvistatin 10 MG|1965-09-06T10:04:...|\n",
      "|0cffb54f-2956-43f...|stopped| order|   Simvistatin 10 MG|1966-09-06T10:04:...|\n",
      "|b8792f87-354a-4b3...|stopped| order|   Simvistatin 10 MG|1967-09-06T10:04:...|\n",
      "|a996c11c-6531-4ba...|stopped| order|   Simvistatin 10 MG|1968-09-05T10:04:...|\n",
      "|f1809b0a-9979-41e...|stopped| order|   Simvistatin 10 MG|1969-09-05T10:04:...|\n",
      "|3d71e455-b74b-408...|stopped| order|   Simvistatin 10 MG|1970-09-05T10:04:...|\n",
      "|67e6bb92-8b38-4df...|stopped| order|   Simvistatin 10 MG|1971-09-05T10:04:...|\n",
      "|33b89fb2-221c-4df...|stopped| order|   Simvistatin 10 MG|1972-09-04T10:04:...|\n",
      "|c5c3ae32-e20d-454...|stopped| order|   Simvistatin 10 MG|1973-09-04T10:04:...|\n",
      "|3e2e1b54-669b-46f...|stopped| order|   Simvistatin 10 MG|1974-09-04T10:04:...|\n",
      "|d53897f5-15fd-4bd...|stopped| order|   Simvistatin 10 MG|1975-09-04T10:04:...|\n",
      "|fa599fd0-e789-43d...|stopped| order|   Simvistatin 10 MG|1976-09-03T10:04:...|\n",
      "|5b7794b7-dc6e-471...|stopped| order|   Simvistatin 10 MG|1977-09-03T10:04:...|\n",
      "|75635c30-38c5-4f5...|stopped| order|   Simvistatin 10 MG|1978-09-03T10:04:...|\n",
      "|364f1bc2-6d4d-411...|stopped| order|   Simvistatin 10 MG|1979-09-03T10:04:...|\n",
      "|8ac970ec-ae34-47f...|stopped| order|   Simvistatin 10 MG|1980-09-02T10:04:...|\n",
      "+--------------------+-------+------+--------------------+--------------------+\n",
      "only showing top 20 rows\n",
      "\n"
     ]
    }
   ],
   "source": [
    "df_medicamentos['id', 'status', 'intent', 'medicationCodeableConcept.text', 'authoredOn'].show()"
   ]
  },
  {
   "cell_type": "code",
   "execution_count": 253,
   "id": "c5a0d9c7-ae5f-453b-8405-3685171dc58d",
   "metadata": {},
   "outputs": [],
   "source": [
    "df_medicamentos = df_medicamentos[['id', 'status', 'intent', 'medicationCodeableConcept.text', 'authoredOn']]"
   ]
  },
  {
   "cell_type": "code",
   "execution_count": 247,
   "id": "13f1961d-72b2-4beb-9c85-4a6ad980acb1",
   "metadata": {},
   "outputs": [],
   "source": [
    "# df_medicamentos.columns"
   ]
  },
  {
   "cell_type": "code",
   "execution_count": null,
   "id": "e57630d7-6978-49f5-9463-05c3878a320c",
   "metadata": {},
   "outputs": [],
   "source": []
  },
  {
   "cell_type": "code",
   "execution_count": null,
   "id": "a78bb6aa-8f6f-41cc-bbd7-c2d4c7835e63",
   "metadata": {},
   "outputs": [],
   "source": [
    "grava_tabela(conditions, \"conditions\")\n",
    "grava_tabela(df_medicamentos, \"medicamentos\")\n",
    "grava_tabela(patients_json, \"sexo_paciente\")\n",
    "grava_tabela(organizations, \"hospitais\")\n",
    "# grava_tabela(condicao_medica, \"condicao_medica\")\n",
    "# grava_tabela(medicamentos, \"medicamentos\")\n",
    "# grava_tabela(sexo_paciente, \"sexo_paciente\")"
   ]
  },
  {
   "cell_type": "code",
   "execution_count": null,
   "id": "b6fbc83e-0172-42a2-b08c-cca50252c807",
   "metadata": {},
   "outputs": [],
   "source": []
  },
  {
   "cell_type": "code",
   "execution_count": null,
   "id": "99e9c69a-9155-4a3e-80cd-a79a12a4e7fe",
   "metadata": {},
   "outputs": [],
   "source": []
  },
  {
   "cell_type": "code",
   "execution_count": null,
   "id": "34e97dbd-1830-4ac9-a181-d3fca4e6aa27",
   "metadata": {},
   "outputs": [],
   "source": []
  },
  {
   "cell_type": "code",
   "execution_count": 248,
   "id": "d9359854-4877-4e85-812b-578db67bb9ee",
   "metadata": {},
   "outputs": [],
   "source": [
    "# encounters_with_patients = encounters.join(\n",
    "#     patients_json,\n",
    "#     encounters.patient_reference == patients_json.patient_id,\n",
    "#     \"inner\"\n",
    "# ).select(\n",
    "#     encounters.encounter_id,\n",
    "#     patients_json.given_name,\n",
    "#     patients_json.family_name,\n",
    "#     encounters.encounter_start,\n",
    "#     encounters.encounter_end\n",
    "# )\n",
    "\n",
    "# # Exibe o resultado do join\n",
    "# encounters_with_patients.show()"
   ]
  },
  {
   "cell_type": "code",
   "execution_count": null,
   "id": "bf15e461-34f6-49e5-938d-cea93720c031",
   "metadata": {},
   "outputs": [],
   "source": []
  },
  {
   "cell_type": "code",
   "execution_count": null,
   "id": "d2e55d8c-4d80-4163-b3dc-5de304d8f268",
   "metadata": {},
   "outputs": [],
   "source": []
  },
  {
   "cell_type": "code",
   "execution_count": null,
   "id": "58d0c947-61ef-451c-9371-fa8b2538965a",
   "metadata": {},
   "outputs": [],
   "source": []
  },
  {
   "cell_type": "code",
   "execution_count": null,
   "id": "fdae0de3-4a90-467d-8874-85696e67cdc7",
   "metadata": {},
   "outputs": [],
   "source": []
  },
  {
   "cell_type": "code",
   "execution_count": null,
   "id": "42bacc96-6706-4152-9afb-f16bec3465a5",
   "metadata": {},
   "outputs": [],
   "source": []
  },
  {
   "cell_type": "code",
   "execution_count": 188,
   "id": "3646d0d0-18a2-4d4e-8163-30c3b0a5ad11",
   "metadata": {},
   "outputs": [],
   "source": [
    "# claims_json_exploded.printSchema()\n",
    "# claims_json_exploded.select('exploded_claim_total_value.value').show()\n",
    "# claims.withColumn('value', F.col(claims_json_exploded.select('exploded_claim_total_value.value'))) # .withColumn('currency', claims_json_exploded.select('exploded_claim_total_value.currency')).show()"
   ]
  },
  {
   "cell_type": "code",
   "execution_count": 200,
   "id": "0ef6e6b8-2039-43c4-a458-e5fd460f4687",
   "metadata": {},
   "outputs": [],
   "source": [
    "# devices = df_dinamico.filter(df_dinamico.resource.resourceType == \"Device\").select(\n",
    "#     F.col(\"resource.id\").alias(\"device_id\"),\n",
    "#     F.col(\"resource.patient.reference\").alias(\"patient_reference\"),\n",
    "#     F.col(\"resource.type.text\").alias(\"device_type\"),\n",
    "#     F.col(\"resource.manufactureDate\").alias(\"manufacture_date\"),\n",
    "#     F.col(\"resource.expirationDate\").alias(\"expiration_date\")\n",
    "# )"
   ]
  },
  {
   "cell_type": "code",
   "execution_count": null,
   "id": "4134066e-431b-4f12-b470-569cb5aa6a92",
   "metadata": {},
   "outputs": [],
   "source": []
  },
  {
   "cell_type": "code",
   "execution_count": null,
   "id": "3c3516c0-3bb8-437f-8e38-1d7e76033ebc",
   "metadata": {},
   "outputs": [],
   "source": [
    "# organizations = df_dinamico.filter(col(\"resource.resourceType\") == \"Organization\").select(\n",
    "#     col(\"resource.id\").alias(\"organization_id\"),\n",
    "#     col(\"resource.name\").alias(\"organization_name\"),\n",
    "#     col(\"resource.address\")[0].city.alias(\"city\"),\n",
    "#     col(\"resource.address\")[0].state.alias(\"state\"),\n",
    "#     col(\"resource.address\")[0].country.alias(\"country\")\n",
    "# )\n",
    "\n",
    "# practitioners = df_dinamico.filter(col(\"resource.resourceType\") == \"Practitioner\").select(\n",
    "#     col(\"resource.id\").alias(\"practitioner_id\"),\n",
    "#     col(\"resource.name\")[0].family.alias(\"practitioner_family_name\"),\n",
    "#     col(\"resource.name\")[0].given[0].alias(\"practitioner_given_name\"),\n",
    "#     col(\"resource.gender\").alias(\"practitioner_gender\")\n",
    "# )\n",
    "\n",
    "# encounters = df_dinamico.filter(col(\"resource.resourceType\") == \"Encounter\").select(\n",
    "#     col(\"resource.id\").alias(\"encounter_id\"),\n",
    "#     col(\"resource.subject.reference\").alias(\"patient_reference\"),\n",
    "#     col(\"resource.participant\")[0].individual.reference.alias(\"practitioner_reference\"),\n",
    "#     col(\"resource.serviceProvider.reference\").alias(\"organization_reference\"),\n",
    "#     col(\"resource.period.start\").alias(\"encounter_start\"),\n",
    "#     col(\"resource.period.end\").alias(\"encounter_end\")\n",
    "# )\n",
    "\n",
    "# conditions = df_dinamico.filter(col(\"resource.resourceType\") == \"Condition\").select(\n",
    "#     col(\"resource.id\").alias(\"condition_id\"),\n",
    "#     col(\"resource.subject.reference\").alias(\"patient_reference\"),\n",
    "#     col(\"resource.encounter.reference\").alias(\"encounter_reference\"),\n",
    "#     col(\"resource.code.text\").alias(\"condition_text\"),\n",
    "#     col(\"resource.onsetDateTime\").alias(\"onset_date\")\n",
    "# )\n",
    "\n",
    "# devices = df_dinamico.filter(col(\"resource.resourceType\") == \"Device\").select(\n",
    "#     col(\"resource.id\").alias(\"device_id\"),\n",
    "#     col(\"resource.patient.reference\").alias(\"patient_reference\"),\n",
    "#     col(\"resource.type.text\").alias(\"device_type\"),\n",
    "#     col(\"resource.manufactureDate\").alias(\"manufacture_date\"),\n",
    "#     col(\"resource.expirationDate\").alias(\"expiration_date\")\n",
    "# )\n",
    "\n",
    "# # claims = df_dinamico.filter(F.col(\"resource.resourceType\") == \"Claim\").select(\n",
    "# claims = df_dinamico.filter(df_dinamico.resource.resourceType == \"Claim\").select(\n",
    "#     F.col(\"resource.id\").alias(\"claim_id\"),\n",
    "#     F.col(\"resource.patient.reference\").alias(\"patient_reference\"),\n",
    "#     F.col(\"resource.provider.reference\").alias(\"organization_reference\"),\n",
    "#     F.col(\"resource.created\").alias(\"claim_created\"),\n",
    "    \n",
    "#     F.col(\"resource.total\").alias(\"claim_total_value\"),\n",
    "#     # F.col(\"resource.total.currency\").alias(\"claim_currency\")\n",
    "# )\n",
    "\n",
    "\n",
    "# patients.show()\n",
    "# organizations.show()\n",
    "# practitioners.show()\n",
    "# encounters.show()\n",
    "# conditions.show()\n",
    "# devices.show()\n",
    "# claims.show()\n",
    "\n",
    "\n",
    "# encounters_with_patients = encounters.join(\n",
    "#     patients,\n",
    "#     encounters.patient_reference == patients.patient_id,\n",
    "#     \"inner\"\n",
    "# ).select(\n",
    "#     encounters.encounter_id,\n",
    "#     patients.given_name,\n",
    "#     patients.family_name,\n",
    "#     encounters.encounter_start,\n",
    "#     encounters.encounter_end\n",
    "# )\n",
    "\n",
    "# # Exibe o resultado do join\n",
    "# encounters_with_patients.show()"
   ]
  },
  {
   "cell_type": "code",
   "execution_count": null,
   "id": "64baa132-a378-4167-a37d-4685a896a7fc",
   "metadata": {},
   "outputs": [],
   "source": []
  }
 ],
 "metadata": {
  "kernelspec": {
   "display_name": "Python 3 (ipykernel)",
   "language": "python",
   "name": "python3"
  },
  "language_info": {
   "codemirror_mode": {
    "name": "ipython",
    "version": 3
   },
   "file_extension": ".py",
   "mimetype": "text/x-python",
   "name": "python",
   "nbconvert_exporter": "python",
   "pygments_lexer": "ipython3",
   "version": "3.11.6"
  }
 },
 "nbformat": 4,
 "nbformat_minor": 5
}
